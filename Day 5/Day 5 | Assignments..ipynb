{
 "cells": [
  {
   "cell_type": "markdown",
   "metadata": {},
   "source": [
    "# Question 1\n",
    "#### 20 non-even prime natural numbers"
   ]
  },
  {
   "cell_type": "code",
   "execution_count": 88,
   "metadata": {},
   "outputs": [
    {
     "name": "stdout",
     "output_type": "stream",
     "text": [
      "1, 7, 11, 13, 17, 19, 23, 29, 31, 37, 41, 43, 47, 49, 53, 59, 61, 67, 71, 73, "
     ]
    }
   ],
   "source": [
    "for i in range (1,74):\n",
    "    if i%2!=0 and i%3!=0 and i%5!=0 :\n",
    "        print (i, end=\", \")"
   ]
  },
  {
   "cell_type": "markdown",
   "metadata": {},
   "source": [
    "# Question 2\n",
    "#### 15 functions of strings"
   ]
  },
  {
   "cell_type": "code",
   "execution_count": 9,
   "metadata": {},
   "outputs": [
    {
     "name": "stdout",
     "output_type": "stream",
     "text": [
      "Jeremiah is good boy\n"
     ]
    }
   ],
   "source": [
    "# 1. Capitalise = Returns the string with the first character capitalized and rest in lower case.\n",
    "a = \"jeremiah is good boy\"\n",
    "print(a.capitalize())"
   ]
  },
  {
   "cell_type": "code",
   "execution_count": 13,
   "metadata": {},
   "outputs": [
    {
     "name": "stdout",
     "output_type": "stream",
     "text": [
      "this is jeremiah mamman mou,\n",
      "i am from nigeria residing in lagos to be precise,\n",
      "i love artificial intelligence and\n",
      "am happy to be tutored by dr. darshan ingle sir.\n",
      "i do appreciate letsupgrade team for this awesome opportunity of a life time.\n"
     ]
    }
   ],
   "source": [
    "# 2.lower() = Converts all the String's characters to lowercase\n",
    "\n",
    "l = \"\"\"This is Jeremiah Mamman Mou,\n",
    "I am from Nigeria residing in Lagos to be precise,\n",
    "I love Artificial Intelligence and\n",
    "am happy to be tutored by Dr. Darshan Ingle Sir.\n",
    "I do appreciate LetsUpgrade team for this awesome opportunity of a life time.\"\"\"\n",
    "print(l.lower())"
   ]
  },
  {
   "cell_type": "code",
   "execution_count": 14,
   "metadata": {},
   "outputs": [
    {
     "name": "stdout",
     "output_type": "stream",
     "text": [
      "THIS IS JEREMIAH MAMMAN MOU,\n",
      "I AM FROM NIGERIA RESIDING IN LAGOS TO BE PRECISE,\n",
      "I LOVE ARTIFICIAL INTELLIGENCE AND\n",
      "AM HAPPY TO BE TUTORED BY DR. DARSHAN INGLE SIR.\n",
      "I DO APPRECIATE LETSUPGRADE TEAM FOR THIS AWESOME OPPORTUNITY OF A LIFE TIME.\n"
     ]
    }
   ],
   "source": [
    "# 3. upper() = Converts all of the String's characters to uppercase\n",
    "\n",
    "l = \"\"\"This is Jeremiah Mamman Mou,\n",
    "I am from Nigeria residing in Lagos to be precise,\n",
    "I love Artificial Intelligence and\n",
    "am happy to be tutored by Dr. Darshan Ingle Sir.\n",
    "I do appreciate LetsUpgrade team for this awesome opportunity of a life time.\"\"\"\n",
    "print(l.upper())"
   ]
  },
  {
   "cell_type": "code",
   "execution_count": 16,
   "metadata": {},
   "outputs": [
    {
     "name": "stdout",
     "output_type": "stream",
     "text": [
      "tEAMcOOK\n",
      "tHIS IS jEREMIAH mAMMAN mOU,\n",
      "i AM FROM nIGERIA RESIDING IN lAGOS TO BE PRECISE,\n",
      "i LOVE aRTIFICIAL iNTELLIGENCE AND\n",
      "AM HAPPY TO BE TUTORED BY dR. dARSHAN iNGLE sIR.\n",
      "i DO APPRECIATE lETSuPGRADE TEAM FOR THIS AWESOME OPPORTUNITY OF A LIFE TIME.\n"
     ]
    }
   ],
   "source": [
    "# 4.swapcase() = Swaps the case of every character in the String from lower to upper case vice versa\n",
    "l = \"\"\"This is Jeremiah Mamman Mou,\n",
    "I am from Nigeria residing in Lagos to be precise,\n",
    "I love Artificial Intelligence and\n",
    "am happy to be tutored by Dr. Darshan Ingle Sir.\n",
    "I do appreciate LetsUpgrade team for this awesome opportunity of a life time.\"\"\"\n",
    "print(l.swapcase())"
   ]
  },
  {
   "cell_type": "code",
   "execution_count": 19,
   "metadata": {},
   "outputs": [
    {
     "name": "stdout",
     "output_type": "stream",
     "text": [
      "Learning Is Fun\n"
     ]
    }
   ],
   "source": [
    "# 5. title() = Returns all words starting with uppercase and the rest of the characters in words in lowercase.\n",
    "\n",
    "vr = 'learning is fun'\n",
    "print (vr.title())"
   ]
  },
  {
   "cell_type": "code",
   "execution_count": 31,
   "metadata": {},
   "outputs": [
    {
     "name": "stdout",
     "output_type": "stream",
     "text": [
      "19\n",
      "2\n"
     ]
    }
   ],
   "source": [
    "# 6.count(str, beg, end) – Returns the number of times substring ‘str’ occurs in the range [beg, end] if beg and end index are given, else the search continues in full String Search is case-sensitive.\n",
    "\n",
    "l = \"\"\"This is Jeremiah Mamman Mou,\n",
    "I am from Nigeria residing in Lagos to be precise,\n",
    "I love Artificial Intelligence and\n",
    "am happy to be tutored by Dr. Darshan Ingle Sir.\n",
    "I do appreciate LetsUpgrade team for this awesome opportunity of a life time.\"\"\"\n",
    "str='i'\n",
    "print (l.count(str))\n",
    "print (l.count('i',0,7))"
   ]
  },
  {
   "cell_type": "code",
   "execution_count": 33,
   "metadata": {},
   "outputs": [
    {
     "name": "stdout",
     "output_type": "stream",
     "text": [
      "Hello, World!\n"
     ]
    }
   ],
   "source": [
    "# 7. strip()= removes characters from both left and right based on the argument.\n",
    "a = \" Hello, World! \"\n",
    "print(a.strip()) "
   ]
  },
  {
   "cell_type": "code",
   "execution_count": 22,
   "metadata": {},
   "outputs": [
    {
     "name": "stdout",
     "output_type": "stream",
     "text": [
      "13\n"
     ]
    }
   ],
   "source": [
    "# 8. len() = gives the length of the strings\n",
    "a = \"Hello, World!\"\n",
    "print(len(a))"
   ]
  },
  {
   "cell_type": "code",
   "execution_count": 34,
   "metadata": {},
   "outputs": [
    {
     "name": "stdout",
     "output_type": "stream",
     "text": [
      "False\n",
      "True\n"
     ]
    }
   ],
   "source": [
    "# 9. islower() = Returns ‘True’ if all the characters in the String are in lowercase while false If any of the char is in uppercase.\n",
    "\n",
    "r='Python'\n",
    "print (r.islower())\n",
    "\n",
    "r='programming'\n",
    "print (r.islower())"
   ]
  },
  {
   "cell_type": "code",
   "execution_count": 36,
   "metadata": {},
   "outputs": [
    {
     "name": "stdout",
     "output_type": "stream",
     "text": [
      "False\n",
      "True\n"
     ]
    }
   ],
   "source": [
    "# 10.  isupper() = Returns ‘True’ if all the characters in the String are in uppercase. while false If any of the char is in lowercase.\n",
    "\n",
    "r='Python'\n",
    "print (r.isupper())\n",
    "\n",
    "r='PYTHON'\n",
    "print (r.isupper())"
   ]
  },
  {
   "cell_type": "code",
   "execution_count": 20,
   "metadata": {},
   "outputs": [
    {
     "name": "stdout",
     "output_type": "stream",
     "text": [
      "['This', 'string', 'will', 'be', 'splitted', 'into', 'a', 'list', 'of', 'words']\n",
      "['Jeremiah', ' most generically', ' is any body', ' of embodiment of jeremiah']\n"
     ]
    }
   ],
   "source": [
    "# 11. split()\n",
    "str = \"This string will  be splitted into a list of words\" # By default, split function splits on space \n",
    "list_of_words = str.split()\n",
    "print(list_of_words)\n",
    "\n",
    "# OR THIS BELOW\n",
    "# split on a delimiter, eg. comma:\n",
    "\n",
    "str1 = \"Jeremiah, most generically, is any body, of embodiment of jeremiah\" # Let us split on comma \n",
    "my_list = str1.split(',')\n",
    "print(my_list)"
   ]
  },
  {
   "cell_type": "code",
   "execution_count": 21,
   "metadata": {},
   "outputs": [
    {
     "name": "stdout",
     "output_type": "stream",
     "text": [
      "Jello, World!\n"
     ]
    }
   ],
   "source": [
    "# 12. .replace() = replaces a string with another string\n",
    "\n",
    "a = \"Hello, World!\"\n",
    "print(a.replace(\"H\", \"J\"))"
   ]
  },
  {
   "cell_type": "code",
   "execution_count": 35,
   "metadata": {},
   "outputs": [
    {
     "name": "stdout",
     "output_type": "stream",
     "text": [
      "My name is Kent, and I am 36\n",
      "\n",
      " --- and it cant take much variables too\n",
      "\n",
      "I want 3 pieces of item 567 for 49.95 dollars.\n"
     ]
    }
   ],
   "source": [
    "# 13. .format() = to insert numbers into strings:\n",
    "\n",
    "age = 36\n",
    "sent = \"My name is Kent, and I am {}\"\n",
    "print(sent.format(age))\n",
    "\n",
    "print ()\n",
    "print (\" --- and it cant take much variables too\")\n",
    "print ()\n",
    "\n",
    "qtty = 3\n",
    "num = 567\n",
    "price = 49.95\n",
    "\n",
    "order = \"I want {} pieces of item {} for {} dollars.\"\n",
    "print(order.format(qtty, num, price))\n"
   ]
  },
  {
   "cell_type": "code",
   "execution_count": 53,
   "metadata": {},
   "outputs": [
    {
     "name": "stdout",
     "output_type": "stream",
     "text": [
      "Jeremiah  most generically  is any body  of embodiment of jeremiah\n"
     ]
    }
   ],
   "source": [
    "# 14. .join = Return a string which is the concatenation of the strings in the sequence\n",
    "\n",
    "str3 = ['Jeremiah', ' most generically', ' is any body', ' of embodiment of jeremiah']\n",
    "print(' '.join(str3))\n"
   ]
  },
  {
   "cell_type": "code",
   "execution_count": 56,
   "metadata": {},
   "outputs": [
    {
     "name": "stdout",
     "output_type": "stream",
     "text": [
      "7\n"
     ]
    }
   ],
   "source": [
    "# 15.\n",
    "this_year = 'Happy New Year'\n",
    "print (this_year.find('ew'))"
   ]
  },
  {
   "cell_type": "raw",
   "metadata": {},
   "source": []
  },
  {
   "cell_type": "markdown",
   "metadata": {},
   "source": [
    "# Question 3\n",
    "#### program to check if a given string is a Palindrom or Anagram or none of them."
   ]
  },
  {
   "cell_type": "code",
   "execution_count": 74,
   "metadata": {},
   "outputs": [
    {
     "name": "stdout",
     "output_type": "stream",
     "text": [
      "The strings are anagrams.\n",
      "The string is a palindrome\n"
     ]
    }
   ],
   "source": [
    "# program to check if the given string is an Anagram or not.\n",
    "\n",
    "s1=\"sana\"\n",
    "s2=\"anas\"\n",
    "if(sorted(s2)==sorted(s1)):\n",
    "      print(\"The strings are anagrams.\")\n",
    "else:\n",
    "      print(\"The strings aren't anagrams.\")\n",
    "\n",
    "\n",
    "# Program to check if a string is a palindrome or not\n",
    "\n",
    "def isPalindrome(s): \n",
    "    return s == s[::-1] \n",
    "  \n",
    "  \n",
    "# Driver code \n",
    "s = \"malayalam\"\n",
    "ans = isPalindrome(s) \n",
    "  \n",
    "if ans: \n",
    "    print(\"The string is a palindrome\") \n",
    "else: \n",
    "    print(\"The string is not a palindrome\")"
   ]
  },
  {
   "cell_type": "markdown",
   "metadata": {},
   "source": [
    "# Question 4\n",
    "#### Conversion of strings to lower case without space inbetween"
   ]
  },
  {
   "cell_type": "code",
   "execution_count": 87,
   "metadata": {},
   "outputs": [
    {
     "name": "stdout",
     "output_type": "stream",
     "text": [
      "drdarshaningleaimltrainer\n"
     ]
    }
   ],
   "source": [
    "def sample(strx):\n",
    "    alphanum=\"\"\n",
    "    for txt in strx:\n",
    "        if txt.isalnum():\n",
    "            alphanum += txt\n",
    "    print(alphanum.lower())\n",
    "\n",
    "sample(\"Dr. Darshan Ingle @AI-ML Trainer\")\n",
    "\n"
   ]
  }
 ],
 "metadata": {
  "kernelspec": {
   "display_name": "Python 3",
   "language": "python",
   "name": "python3"
  },
  "language_info": {
   "codemirror_mode": {
    "name": "ipython",
    "version": 3
   },
   "file_extension": ".py",
   "mimetype": "text/x-python",
   "name": "python",
   "nbconvert_exporter": "python",
   "pygments_lexer": "ipython3",
   "version": "3.7.6"
  }
 },
 "nbformat": 4,
 "nbformat_minor": 4
}
