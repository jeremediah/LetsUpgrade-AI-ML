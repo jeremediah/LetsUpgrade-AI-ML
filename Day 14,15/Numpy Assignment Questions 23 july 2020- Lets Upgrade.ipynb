{
 "cells": [
  {
   "cell_type": "markdown",
   "metadata": {},
   "source": [
    "# 1. Create a 3x3x3 array with random values "
   ]
  },
  {
   "cell_type": "code",
   "execution_count": 92,
   "metadata": {},
   "outputs": [],
   "source": [
    "import numpy as np\n",
    "import sys"
   ]
  },
  {
   "cell_type": "code",
   "execution_count": 90,
   "metadata": {},
   "outputs": [
    {
     "name": "stdout",
     "output_type": "stream",
     "text": [
      "[[[0.72386667 0.03709029 0.70487086]\n",
      "  [0.04684828 0.52609215 0.81577999]\n",
      "  [0.7547352  0.9900568  0.72503081]]\n",
      "\n",
      " [[0.77416728 0.03864463 0.94911317]\n",
      "  [0.14881776 0.64593413 0.68861926]\n",
      "  [0.98903566 0.49743242 0.50688355]]\n",
      "\n",
      " [[0.59454674 0.33274831 0.56136252]\n",
      "  [0.14942031 0.57594132 0.1960504 ]\n",
      "  [0.50224533 0.24178665 0.38202036]]\n",
      "\n",
      " [[0.75807021 0.1341758  0.76467623]\n",
      "  [0.30561124 0.43502994 0.10088294]\n",
      "  [0.23691948 0.56008362 0.9622551 ]]]\n"
     ]
    },
    {
     "data": {
      "text/plain": [
       "(4, 3, 3)"
      ]
     },
     "execution_count": 90,
     "metadata": {},
     "output_type": "execute_result"
    }
   ],
   "source": [
    "x = np.random.random((4,3,3))\n",
    "print(x)\n",
    "x.shape"
   ]
  },
  {
   "cell_type": "markdown",
   "metadata": {},
   "source": [
    "# 2.Create a 5x5 matrix with values 1,2,3,4 just below the diagonal"
   ]
  },
  {
   "cell_type": "code",
   "execution_count": 21,
   "metadata": {},
   "outputs": [
    {
     "name": "stdout",
     "output_type": "stream",
     "text": [
      "[[1 0 0 0]\n",
      " [0 2 0 0]\n",
      " [0 0 3 0]\n",
      " [0 0 0 4]]\n"
     ]
    }
   ],
   "source": [
    "y = np.diag([1, 2, 3, 4])\n",
    "print(y)"
   ]
  },
  {
   "cell_type": "markdown",
   "metadata": {},
   "source": [
    "# 3.Create a 8x8 matrix and fill it with a checkerboard pattern"
   ]
  },
  {
   "cell_type": "code",
   "execution_count": 220,
   "metadata": {},
   "outputs": [
    {
     "name": "stdout",
     "output_type": "stream",
     "text": [
      "8x8 Matrix - Checkerboard pattern: \n",
      "\n",
      "[[0 1 0 1 0 1 0 1]\n",
      " [1 0 1 0 1 0 1 0]\n",
      " [0 1 0 1 0 1 0 1]\n",
      " [1 0 1 0 1 0 1 0]\n",
      " [0 1 0 1 0 1 0 1]\n",
      " [1 0 1 0 1 0 1 0]\n",
      " [0 1 0 1 0 1 0 1]\n",
      " [1 0 1 0 1 0 1 0]]\n"
     ]
    }
   ],
   "source": [
    "array= np.array([[0,1], [1,0]])\n",
    "Z = np.tile(array,(4,4))\n",
    "\n",
    "print(\"8x8 Matrix - Checkerboard pattern:\", \"\\n\")\n",
    "print (Z)"
   ]
  },
  {
   "cell_type": "markdown",
   "metadata": {},
   "source": [
    "# 4. Normalize a 5x5 random matrix"
   ]
  },
  {
   "cell_type": "code",
   "execution_count": 42,
   "metadata": {},
   "outputs": [
    {
     "name": "stdout",
     "output_type": "stream",
     "text": [
      "Original array:\n",
      "[[0.46756076 0.01728663 0.0314303  0.60432411 0.16369619]\n",
      " [0.69178857 0.68917125 0.28005752 0.71421174 0.99061662]\n",
      " [0.34825956 0.0934192  0.7065663  0.46063794 0.72666213]\n",
      " [0.33274705 0.10465019 0.67819612 0.88058603 0.4070797 ]\n",
      " [0.47074889 0.39533004 0.68949025 0.07476071 0.08687686]] \n",
      "\n",
      "After normalization:\n",
      "[[0.46261199 0.         0.01453122 0.60312277 0.1504213 ]\n",
      " [0.69298383 0.69029479 0.26997103 0.71602142 1.        ]\n",
      " [0.34004185 0.07821867 0.70816648 0.45549949 0.72881295]\n",
      " [0.32410429 0.0897574  0.67901893 0.88695449 0.40047371]\n",
      " [0.46588748 0.3884021  0.69062253 0.05904892 0.07149706]]\n"
     ]
    }
   ],
   "source": [
    "a= np.random.random((5,5))\n",
    "print(\"Original array:\")\n",
    "print(a, \"\\n\")\n",
    "\n",
    "amax, amin = a.max(), a.min()\n",
    "a = (a - amin)/(amax - amin)\n",
    "print(\"After normalization:\")\n",
    "print(a)"
   ]
  },
  {
   "cell_type": "markdown",
   "metadata": {},
   "source": [
    "# 5.  How to find common values between two arrays?"
   ]
  },
  {
   "cell_type": "code",
   "execution_count": 47,
   "metadata": {},
   "outputs": [
    {
     "name": "stdout",
     "output_type": "stream",
     "text": [
      "first_Array:  [ 0 10 20 40 60]\n",
      "Second_Array:  [10 30 40 50 70] \n",
      "\n",
      "Common values between two arrays:\n",
      "[10 40]\n"
     ]
    }
   ],
   "source": [
    "array1 = np.array([0,10,20,40,60])\n",
    "print(\"first_Array: \",array1)\n",
    "\n",
    "array2 = np.array([10,30,40,50,70])\n",
    "print(\"Second_Array: \",array2, \"\\n\")\n",
    "\n",
    "print(\"Common values between two arrays:\")\n",
    "print(np.intersect1d(array1, array2))"
   ]
  },
  {
   "cell_type": "markdown",
   "metadata": {},
   "source": [
    "# 6.How to get the dates of yesterday, today and tomorrow?"
   ]
  },
  {
   "cell_type": "code",
   "execution_count": 17,
   "metadata": {},
   "outputs": [
    {
     "name": "stdout",
     "output_type": "stream",
     "text": [
      "Yestraday is:  2020-07-25\n",
      "Today is:  2020-07-26\n",
      "Tomorrow is:  2020-07-27\n"
     ]
    }
   ],
   "source": [
    "yesterday = np.datetime64('today') - np.timedelta64(1)\n",
    "print(\"Yestraday is: \",yesterday)\n",
    "\n",
    "today     = np.datetime64('today')\n",
    "print(\"Today is: \",today)\n",
    "\n",
    "tomorrow  = np.datetime64('today') + np.timedelta64(1)\n",
    "print(\"Tomorrow is: \",tomorrow)"
   ]
  },
  {
   "cell_type": "markdown",
   "metadata": {},
   "source": [
    "# 7. Consider two random array A and B, check if they are equal"
   ]
  },
  {
   "cell_type": "code",
   "execution_count": 65,
   "metadata": {},
   "outputs": [
    {
     "name": "stdout",
     "output_type": "stream",
     "text": [
      "First array:\n",
      "[5 5 5 5 1 1 0 5 2 4] \n",
      "\n",
      "Second array:\n",
      "[1 0 2 5 0 0 4 5 5 1] \n",
      "\n",
      "Test to see if the above arrays are equal or not!\n",
      "False\n"
     ]
    }
   ],
   "source": [
    "x = np.random.randint(0,6,10)\n",
    "print(\"First array:\")\n",
    "print(x, \"\\n\")\n",
    "\n",
    "y = np.random.randint(0,6,10)\n",
    "print(\"Second array:\")\n",
    "print(y, \"\\n\")\n",
    "\n",
    "\n",
    "\n",
    "print(\"Test to see if the above arrays are equal or not!\")\n",
    "array_equal = np.allclose(x, y)\n",
    "print(array_equal)"
   ]
  },
  {
   "cell_type": "markdown",
   "metadata": {},
   "source": [
    "# 8.Create random vector of size 10 and replace the maximum value by 0 "
   ]
  },
  {
   "cell_type": "code",
   "execution_count": 78,
   "metadata": {},
   "outputs": [
    {
     "name": "stdout",
     "output_type": "stream",
     "text": [
      "Original array:\n",
      "[0.0578475  0.85989908 0.77166749 0.8484862  0.90771435 0.80197083\n",
      " 0.52533496 0.4431915  0.09966962 0.95534894] \n",
      "\n",
      "Maximum value replaced by -1:\n",
      "[ 0.0578475   0.85989908  0.77166749  0.8484862   0.90771435  0.80197083\n",
      "  0.52533496  0.4431915   0.09966962 -1.        ]\n"
     ]
    }
   ],
   "source": [
    "xc = np.random.random(10)\n",
    "print(\"Original array:\")\n",
    "print(xc, \"\\n\")\n",
    "\n",
    "xc[xc.argmax()] = -1\n",
    "print(\"Maximum value replaced by -1:\")\n",
    "print(xc)"
   ]
  },
  {
   "cell_type": "markdown",
   "metadata": {},
   "source": [
    "# 9. How to print all the values of an array?"
   ]
  },
  {
   "cell_type": "code",
   "execution_count": 226,
   "metadata": {},
   "outputs": [
    {
     "name": "stdout",
     "output_type": "stream",
     "text": [
      "[[0. 0. 0. 0. 0. 0. 0. 0. 0. 0. 0. 0. 0. 0.]\n",
      " [0. 0. 0. 0. 0. 0. 0. 0. 0. 0. 0. 0. 0. 0.]\n",
      " [0. 0. 0. 0. 0. 0. 0. 0. 0. 0. 0. 0. 0. 0.]\n",
      " [0. 0. 0. 0. 0. 0. 0. 0. 0. 0. 0. 0. 0. 0.]\n",
      " [0. 0. 0. 0. 0. 0. 0. 0. 0. 0. 0. 0. 0. 0.]\n",
      " [0. 0. 0. 0. 0. 0. 0. 0. 0. 0. 0. 0. 0. 0.]\n",
      " [0. 0. 0. 0. 0. 0. 0. 0. 0. 0. 0. 0. 0. 0.]\n",
      " [0. 0. 0. 0. 0. 0. 0. 0. 0. 0. 0. 0. 0. 0.]\n",
      " [0. 0. 0. 0. 0. 0. 0. 0. 0. 0. 0. 0. 0. 0.]\n",
      " [0. 0. 0. 0. 0. 0. 0. 0. 0. 0. 0. 0. 0. 0.]\n",
      " [0. 0. 0. 0. 0. 0. 0. 0. 0. 0. 0. 0. 0. 0.]\n",
      " [0. 0. 0. 0. 0. 0. 0. 0. 0. 0. 0. 0. 0. 0.]\n",
      " [0. 0. 0. 0. 0. 0. 0. 0. 0. 0. 0. 0. 0. 0.]\n",
      " [0. 0. 0. 0. 0. 0. 0. 0. 0. 0. 0. 0. 0. 0.]]\n"
     ]
    }
   ],
   "source": [
    "np.set_printoptions(threshold=sys.maxsize)\n",
    "lagos = np.zeros((14, 14))\n",
    "print(lagos)"
   ]
  },
  {
   "cell_type": "markdown",
   "metadata": {},
   "source": [
    "# 10.Subtract the mean of each row of a matrix"
   ]
  },
  {
   "cell_type": "code",
   "execution_count": 114,
   "metadata": {},
   "outputs": [
    {
     "name": "stdout",
     "output_type": "stream",
     "text": [
      "Original matrix:\n",
      "\n",
      "[[0.33183421 0.85674291 0.20307283 0.83901579 0.93303422 0.88648336]\n",
      " [0.32316476 0.70390754 0.91821973 0.0147501  0.2662875  0.61486178]\n",
      " [0.15555789 0.0823811  0.10627615 0.86868989 0.44801108 0.13039953]\n",
      " [0.55835424 0.16669086 0.11355352 0.42889976 0.62865018 0.44331895]\n",
      " [0.43432669 0.08858767 0.51139624 0.13850785 0.78640185 0.03441348]\n",
      " [0.00793408 0.3485245  0.17964546 0.17055393 0.06299433 0.94038165]\n",
      " [0.12511598 0.1566066  0.66568778 0.42140419 0.08474381 0.00861531]]\n",
      "\n",
      "Subtract the mean of each row of the said matrix:\n",
      "\n",
      "[[-0.34319634  0.18171236 -0.47195772  0.16398523  0.25800367  0.21145281]\n",
      " [-0.15036714  0.23037564  0.44468783 -0.4587818  -0.2072444   0.14132988]\n",
      " [-0.14299472 -0.2161715  -0.19227646  0.57013729  0.14945847 -0.16815307]\n",
      " [ 0.16844299 -0.22322039 -0.27635773  0.03898851  0.23873893  0.0534077 ]\n",
      " [ 0.1020544  -0.24368463  0.17912394 -0.19376445  0.45412955 -0.29785881]\n",
      " [-0.27707158  0.06351884 -0.1053602  -0.11445173 -0.22201133  0.655376  ]\n",
      " [-0.11857963 -0.08708902  0.42199217  0.17770858 -0.1589518  -0.2350803 ]]\n"
     ]
    }
   ],
   "source": [
    "print(\"Original matrix:\\n\")\n",
    "Xe = np.random.rand(7, 6)\n",
    "print(Xe)\n",
    "\n",
    "print(\"\\nSubtract the mean of each row of the said matrix:\\n\")\n",
    "Y = Xe - Xe.mean(axis=1, keepdims=True)\n",
    "print(Y)"
   ]
  },
  {
   "cell_type": "markdown",
   "metadata": {},
   "source": [
    "\n",
    "# 11. Consider a given vector, how to add 1 to each element indexed by a second vector (be careful with repeated indices)? "
   ]
  },
  {
   "cell_type": "code",
   "execution_count": 228,
   "metadata": {},
   "outputs": [
    {
     "name": "stdout",
     "output_type": "stream",
     "text": [
      "[5. 4. 1. 2. 3. 1. 2. 5. 4. 3.]\n"
     ]
    }
   ],
   "source": [
    "xxx = np.ones(10)\n",
    "yyy = np.random.randint(0,len(xxx),20)\n",
    "\n",
    "xxx += np.bincount(yyy, minlength=len(xxx))\n",
    "print(xxx)"
   ]
  },
  {
   "cell_type": "markdown",
   "metadata": {},
   "source": [
    "# 12.How to get the diagonal of a dot product?"
   ]
  },
  {
   "cell_type": "code",
   "execution_count": 126,
   "metadata": {},
   "outputs": [
    {
     "name": "stdout",
     "output_type": "stream",
     "text": [
      "[[ 0  1  2]\n",
      " [ 3  4  5]\n",
      " [ 6  7  8]\n",
      " [ 9 10 11]\n",
      " [12 13 14]] \n",
      "\n",
      "[[0 1 2]\n",
      " [3 4 5]\n",
      " [6 7 8]] \n",
      "\n",
      "[  60  672 1932 3840 6396]\n"
     ]
    }
   ],
   "source": [
    "a = np.arange(15).reshape(5, 3)\n",
    "b = np.arange(9).reshape(3, 3)\n",
    "print(a, \"\\n\")\n",
    "print(b, \"\\n\")\n",
    "\n",
    "c = np.diag(np.dot(np.dot(a, b), a.T))\n",
    "print (c)"
   ]
  },
  {
   "cell_type": "markdown",
   "metadata": {},
   "source": [
    "# 13.How to find the most frequent value in an array?"
   ]
  },
  {
   "cell_type": "code",
   "execution_count": 135,
   "metadata": {},
   "outputs": [
    {
     "name": "stdout",
     "output_type": "stream",
     "text": [
      "Original array:\n",
      "[ 3 11  9 11 11  6  6  7  1  4 11  1  0  0  6 11  9  2  4  7] \n",
      "\n",
      "Most frequent value in the above array:\n",
      "11\n"
     ]
    }
   ],
   "source": [
    "xn = np.random.randint(0, 15, 20)\n",
    "print(\"Original array:\")\n",
    "print(xn,\"\\n\")\n",
    "\n",
    "print(\"Most frequent value in the above array:\")\n",
    "print(np.bincount(xn).argmax())\n"
   ]
  },
  {
   "cell_type": "markdown",
   "metadata": {},
   "source": [
    "# 14.How to get the n largest values of an array"
   ]
  },
  {
   "cell_type": "code",
   "execution_count": 164,
   "metadata": {},
   "outputs": [
    {
     "name": "stdout",
     "output_type": "stream",
     "text": [
      "Original array:\n",
      "[ 25 109 105  78 195 117 140   6 101  57  51 164 159 143  37  98 198 195\n",
      " 180  21] \n",
      "\n",
      "largest values of an array: \n",
      "[198]\n"
     ]
    }
   ],
   "source": [
    "xq = np.random.randint(0,199,20)\n",
    "print(\"Original array:\")\n",
    "print(xq, \"\\n\")\n",
    "\n",
    "print(\"largest values of an array: \")\n",
    "print (xq[np.argsort(xq)[-1:]])\n"
   ]
  },
  {
   "cell_type": "markdown",
   "metadata": {},
   "source": [
    "# 15.How to create a record array from a regular array?"
   ]
  },
  {
   "cell_type": "code",
   "execution_count": 174,
   "metadata": {},
   "outputs": [
    {
     "name": "stdout",
     "output_type": "stream",
     "text": [
      "First array: [4 7 9 3] \n",
      "\n",
      "Second array: ['Red' 'Green' 'Blue' 'Yellow'] \n",
      "\n",
      "Third array: [ 13.2  98.   77.  120. ] \n",
      "\n",
      "A record array from a regular array:\n",
      "(4, 'Red', 13.2)\n",
      "(7, 'Green', 98.)\n",
      "(9, 'Blue', 77.)\n",
      "(3, 'Yellow', 120.)\n"
     ]
    }
   ],
   "source": [
    "xx=np.array([4,7,9,3])\n",
    "print(\"First array:\", xx,\"\\n\")\n",
    "\n",
    "yy=np.array(['Red','Green','Blue','Yellow'])\n",
    "print(\"Second array:\",yy,\"\\n\")\n",
    "\n",
    "zz=np.array([13.20,98,77,120])\n",
    "print(\"Third array:\",zz,\"\\n\")\n",
    "\n",
    "result= np.core.records.fromarrays([xx, yy, zz],names='a,b,c')\n",
    "\n",
    "print(\"A record array from a regular array:\")\n",
    "print(result[0])\n",
    "print(result[1])\n",
    "print(result[2])\n",
    "print(result[3])"
   ]
  },
  {
   "cell_type": "code",
   "execution_count": null,
   "metadata": {},
   "outputs": [],
   "source": []
  }
 ],
 "metadata": {
  "kernelspec": {
   "display_name": "Python 3",
   "language": "python",
   "name": "python3"
  },
  "language_info": {
   "codemirror_mode": {
    "name": "ipython",
    "version": 3
   },
   "file_extension": ".py",
   "mimetype": "text/x-python",
   "name": "python",
   "nbconvert_exporter": "python",
   "pygments_lexer": "ipython3",
   "version": "3.7.6"
  }
 },
 "nbformat": 4,
 "nbformat_minor": 2
}
