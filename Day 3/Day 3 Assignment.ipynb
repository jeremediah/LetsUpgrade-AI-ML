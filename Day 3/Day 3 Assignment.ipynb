{
 "cells": [
  {
   "cell_type": "markdown",
   "metadata": {},
   "source": [
    "# Day 3 Assignments - LetsUpgrade AI-ML\n"
   ]
  },
  {
   "cell_type": "markdown",
   "metadata": {},
   "source": [
    "# Question 1\n",
    "\n"
   ]
  },
  {
   "cell_type": "markdown",
   "metadata": {},
   "source": [
    "### program to subtract two complex numbers in Python"
   ]
  },
  {
   "cell_type": "code",
   "execution_count": 103,
   "metadata": {},
   "outputs": [
    {
     "name": "stdout",
     "output_type": "stream",
     "text": [
      "This is the sum of two complex numbers:  (2+2j)\n"
     ]
    }
   ],
   "source": [
    "a = 4 + 5j\n",
    "b = 6 + 7j\n",
    "c = b - a  #subtracting b from a (both are complex numbers)\n",
    "print (\"This is the sum of two complex numbers: \", c)"
   ]
  },
  {
   "cell_type": "markdown",
   "metadata": {},
   "source": [
    "# Question 2"
   ]
  },
  {
   "cell_type": "markdown",
   "metadata": {},
   "source": [
    "### Fourth root of a number"
   ]
  },
  {
   "cell_type": "code",
   "execution_count": 102,
   "metadata": {},
   "outputs": [
    {
     "name": "stdout",
     "output_type": "stream",
     "text": [
      "The fourth root of 16 is:  2.0\n"
     ]
    }
   ],
   "source": [
    "a = 16\n",
    "fourth_root = a**0.25 #fourth root is same as ^0.25 😀\n",
    "\n",
    "print (\"The fourth root of 16 is: \", fourth_root)"
   ]
  },
  {
   "cell_type": "markdown",
   "metadata": {},
   "source": [
    "# Question 3"
   ]
  },
  {
   "cell_type": "markdown",
   "metadata": {},
   "source": [
    "### Swapping two numbers in python with the help of a temporary variable"
   ]
  },
  {
   "cell_type": "code",
   "execution_count": 48,
   "metadata": {},
   "outputs": [
    {
     "name": "stdout",
     "output_type": "stream",
     "text": [
      "first_number before swap:  15\n",
      "second_number before swap:  37\n",
      " \n",
      "first_number after swap:  37\n",
      "second_number after swap:  15\n"
     ]
    }
   ],
   "source": [
    "first_number = 15\n",
    "second_number = 37\n",
    "\n",
    "print (\"first_number before swap: \", first_number)\n",
    "print (\"second_number before swap: \", second_number)\n",
    "\n",
    "place_holder = first_number\n",
    "first_number = second_number\n",
    "second_number = place_holder\n",
    "\n",
    "print (\" \")\n",
    "print (\"first_number after swap: \", first_number)\n",
    "print (\"second_number after swap: \", second_number) "
   ]
  },
  {
   "cell_type": "markdown",
   "metadata": {},
   "source": [
    "# Question 4"
   ]
  },
  {
   "cell_type": "markdown",
   "metadata": {},
   "source": [
    "### Swapping two numbers in python without using a temporary variable"
   ]
  },
  {
   "cell_type": "code",
   "execution_count": 71,
   "metadata": {},
   "outputs": [
    {
     "name": "stdout",
     "output_type": "stream",
     "text": [
      "first_figure before swap:  27\n",
      "second_figure before swap:  120\n",
      " \n",
      "first_figure after swap:  120\n",
      "second_figure after swap:  27\n"
     ]
    }
   ],
   "source": [
    "first_figure = 27\n",
    "second_figure = 120\n",
    "\n",
    "print(\"first_figure before swap: \", first_figure)\n",
    "print(\"second_figure before swap: \", second_figure)\n",
    "\n",
    "\n",
    "first_figure, second_figure = second_figure, first_figure    # swapping the two numbers\n",
    "\n",
    "print (\" \")\n",
    "print(\"first_figure after swap: \", first_figure)\n",
    "print(\"second_figure after swap: \", second_figure)"
   ]
  },
  {
   "cell_type": "markdown",
   "metadata": {},
   "source": [
    "# Question 5"
   ]
  },
  {
   "cell_type": "markdown",
   "metadata": {},
   "source": [
    "### Fahrenheit to kelvin and Celsius "
   ]
  },
  {
   "cell_type": "code",
   "execution_count": 91,
   "metadata": {},
   "outputs": [
    {
     "name": "stdout",
     "output_type": "stream",
     "text": [
      "-17.22222222222222\n",
      "256.27777777777777\n"
     ]
    }
   ],
   "source": [
    "Fahrenheit = 1  # Fahrenheit is asigned a value 1 because am getting syntax error\n",
    "\n",
    "# Fahrenheit to Celsius \n",
    "Celsius = (Fahrenheit - 32) * 5/9\n",
    "Fahrenheit = (Celsius * 9/5) + 32\n",
    "\n",
    "# Fahrenheit to Kelvin\n",
    "Kelvin = 273.5 + Celsius\n",
    "\n",
    "print (Celsius)\n",
    "print (Kelvin)"
   ]
  },
  {
   "cell_type": "markdown",
   "metadata": {},
   "source": [
    "# Question 6"
   ]
  },
  {
   "cell_type": "markdown",
   "metadata": {},
   "source": [
    "#### All the availabe data types in Python"
   ]
  },
  {
   "cell_type": "code",
   "execution_count": 14,
   "metadata": {},
   "outputs": [
    {
     "data": {
      "text/plain": [
       "(int,\n",
       " str,\n",
       " complex,\n",
       " float,\n",
       " list,\n",
       " tuple,\n",
       " range,\n",
       " dict,\n",
       " set,\n",
       " frozenset,\n",
       " bool,\n",
       " bytes,\n",
       " bytearray,\n",
       " memoryview)"
      ]
     },
     "execution_count": 14,
     "metadata": {},
     "output_type": "execute_result"
    }
   ],
   "source": [
    "a = 1                                        \n",
    "b = \"Boy\"                                   \n",
    "c = a + 2j\n",
    "d = 3.4\n",
    "e = [\"Lets\", \"Upgrade\", \"Nigeria\"]\n",
    "f = (\"Finally\", \"Fulfilling\", \"My\", \"Dreams\")\n",
    "g = range(5)\n",
    "h = {\"Name\" : \"Jeremiah\", \"Age\" : 32}\n",
    "i = {\"Lets\", \"Upgrade\", \"Nigeria\"}\n",
    "j = frozenset({\"Lets\", \"Upgrade\", \"Nigeria\"})\n",
    "k = False\n",
    "l = b\"Hi from Nigeria\"\n",
    "m = bytearray(6)\n",
    "n = memoryview(bytes(7))\n",
    "\n",
    "type(a),type(b),type(c),type(d),type(e),type(f),type(g),type(h),type(i),type(j),type(k),type(l),type(m),type(n)"
   ]
  },
  {
   "cell_type": "markdown",
   "metadata": {},
   "source": [
    "# Question 7"
   ]
  },
  {
   "cell_type": "markdown",
   "metadata": {},
   "source": [
    "### Markdown cell to create Github profile and upload Assignment as explained by Dr. Darshan Ingle "
   ]
  },
  {
   "cell_type": "markdown",
   "metadata": {},
   "source": [
    "### Below are the steps:\n",
    "\n",
    "1. Create a Github profile on github.com using your email or sign into your account if you have one already\n",
    "2. Create a new Github public Repository \n",
    "3. Name the repo as LetsUpgrade AI-ML, with the Description as Assignments then click on CREATE REPOSITORY\n",
    "4. A folder will be created where one will Upload the files(solution) in the repo day by day.\n",
    "5. Click on the link \"uploading an existing file\"\n",
    "6. The folder where the jupyter file (solution) is saved on the MAC/PC will then be dragged and dropped\n",
    "7. Copy the URL of the Github Folder and paste in the Assignment Submission Form (Google Form). But then, try opening the copied link on your browser in incognito mode to be sure you are on track.\n",
    "8. Fill the necessary details in the Assignment Submission Form.\n",
    "9. submit the assignment within the stipulated time."
   ]
  },
  {
   "cell_type": "code",
   "execution_count": null,
   "metadata": {},
   "outputs": [],
   "source": []
  }
 ],
 "metadata": {
  "kernelspec": {
   "display_name": "Python 3",
   "language": "python",
   "name": "python3"
  },
  "language_info": {
   "codemirror_mode": {
    "name": "ipython",
    "version": 3
   },
   "file_extension": ".py",
   "mimetype": "text/x-python",
   "name": "python",
   "nbconvert_exporter": "python",
   "pygments_lexer": "ipython3",
   "version": "3.7.6"
  }
 },
 "nbformat": 4,
 "nbformat_minor": 4
}
